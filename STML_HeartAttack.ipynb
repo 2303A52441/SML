{
  "cells": [
    {
      "cell_type": "markdown",
      "metadata": {
        "id": "view-in-github",
        "colab_type": "text"
      },
      "source": [
        "<a href=\"https://colab.research.google.com/github/2303A52441/SML/blob/main/STML_HeartAttack.ipynb\" target=\"_parent\"><img src=\"https://colab.research.google.com/assets/colab-badge.svg\" alt=\"Open In Colab\"/></a>"
      ]
    },
    {
      "cell_type": "code",
      "source": [
        "from google.colab import drive\n",
        "drive.mount('/content/drive')\n"
      ],
      "metadata": {
        "id": "pb-0YDeLT3jt",
        "colab": {
          "base_uri": "https://localhost:8080/"
        },
        "outputId": "fae4426c-5e86-4906-d43a-eb4ada4f88f8"
      },
      "execution_count": 1,
      "outputs": [
        {
          "output_type": "stream",
          "name": "stdout",
          "text": [
            "Mounted at /content/drive\n"
          ]
        }
      ]
    },
    {
      "cell_type": "code",
      "source": [
        "import pandas as pd\n",
        "import numpy as np\n",
        "import matplotlib.pyplot as plt\n",
        "import statistics as stat\n",
        "from scipy.stats import skew\n",
        "from scipy.stats import kurtosis\n",
        "from scipy.stats import iqr\n",
        "data = pd.read_csv('/content/drive/MyDrive/heart_attack_dataset.csv', usecols=['Age','Blood Pressure (mmHg)','Cholesterol (mg/dL)'])\n",
        "ecols=(['Age','Blood Pressure (mmHg)' ,'Cholesterol (mg/dL)'])\n",
        "range_=np.max(data['Blood Pressure (mmHg)'])-np.min(data['Blood Pressure (mmHg)'])\n",
        "\n",
        "#data.tail(-1)\n",
        "#print(data)\n",
        "p=data.head(20)\n",
        "print(data.head(20))\n",
        "p=data.tail(20)\n",
        "print(data.tail(20))\n",
        "plt.hist(data,100)\n",
        "print(\"The mean of the data=\",np.mean(data))\n",
        "print(\"The median of the data=\",np.median(data))\n",
        "print(\"The mode of the data =\",stat.mode)\n",
        "print(\"The SD of the data=\",np.std(data))\n",
        "print(\"The skew of the data=\",skew(data,axis=0,bias=True))\n",
        "print(\"The kurtosis of the data=\",kurtosis(data,axis=0,bias=True))\n",
        "print(\"The IQR of the data=\",iqr(data))\n",
        "print(\"The range of the data =\",range_)\n"
      ],
      "metadata": {
        "colab": {
          "base_uri": "https://localhost:8080/",
          "height": 1000
        },
        "id": "0ti8W2njT-eS",
        "outputId": "1cb9b4ec-1f35-4496-c420-9263ede1f14e"
      },
      "execution_count": 2,
      "outputs": [
        {
          "output_type": "stream",
          "name": "stdout",
          "text": [
            "    Age  Blood Pressure (mmHg)  Cholesterol (mg/dL)\n",
            "0    70                    181                  262\n",
            "1    55                    103                  253\n",
            "2    42                     95                  295\n",
            "3    84                    106                  270\n",
            "4    86                    187                  296\n",
            "5    66                    125                  271\n",
            "6    33                    181                  262\n",
            "7    84                    182                  288\n",
            "8    73                    115                  286\n",
            "9    63                    174                  254\n",
            "10   88                    154                  150\n",
            "11   69                    133                  236\n",
            "12   78                    165                  171\n",
            "13   89                    153                  215\n",
            "14   71                    110                  182\n",
            "15   30                    107                  242\n",
            "16   77                    112                  179\n",
            "17   86                     91                  254\n",
            "18   76                    101                  227\n",
            "19   74                    125                  259\n",
            "     Age  Blood Pressure (mmHg)  Cholesterol (mg/dL)\n",
            "980   41                    156                  199\n",
            "981   73                    188                  206\n",
            "982   49                    176                  280\n",
            "983   36                    111                  174\n",
            "984   77                    151                  239\n",
            "985   46                    190                  242\n",
            "986   70                    167                  207\n",
            "987   81                     94                  283\n",
            "988   70                    148                  233\n",
            "989   37                    138                  265\n",
            "990   85                    168                  208\n",
            "991   72                    194                  181\n",
            "992   77                     90                  276\n",
            "993   77                    198                  268\n",
            "994   51                    107                  217\n",
            "995   42                    125                  193\n",
            "996   80                    186                  267\n",
            "997   64                    108                  174\n",
            "998   84                    123                  195\n",
            "999   61                    155                  197\n",
            "The mean of the data= 143.189\n",
            "The median of the data= 146.0\n",
            "The mode of the data = <function mode at 0x7c0d62cffac0>\n",
            "The SD of the data= Age                      17.308835\n",
            "Blood Pressure (mmHg)    31.740643\n",
            "Cholesterol (mg/dL)      42.766418\n",
            "dtype: float64\n",
            "The skew of the data= [-3.56423187e-02 -9.06836707e-03  3.86322596e-06]\n",
            "The kurtosis of the data= [-1.24859277 -1.17992631 -1.20459568]\n",
            "The IQR of the data= 118.0\n",
            "The range of the data = 109\n"
          ]
        },
        {
          "output_type": "stream",
          "name": "stderr",
          "text": [
            "/usr/local/lib/python3.10/dist-packages/numpy/core/fromnumeric.py:3643: FutureWarning: The behavior of DataFrame.std with axis=None is deprecated, in a future version this will reduce over both axes and return a scalar. To retain the old behavior, pass axis=0 (or do not pass axis)\n",
            "  return std(axis=axis, dtype=dtype, out=out, ddof=ddof, **kwargs)\n"
          ]
        },
        {
          "output_type": "display_data",
          "data": {
            "text/plain": [
              "<Figure size 640x480 with 1 Axes>"
            ],
            "image/png": "[encoded data removed]"
          },
          "metadata": {}
        }
      ]
    }
  ],
  "metadata": {
    "colab": {
      "provenance": [],
      "include_colab_link": true
    },
    "kernelspec": {
      "display_name": "Python 3",
      "name": "python3"
    }
  },
  "nbformat": 4,
  "nbformat_minor": 0
}